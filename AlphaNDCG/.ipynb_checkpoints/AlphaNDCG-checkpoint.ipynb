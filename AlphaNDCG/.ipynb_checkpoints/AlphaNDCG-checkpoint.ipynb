{
 "cells": [
  {
   "cell_type": "code",
   "execution_count": 1,
   "id": "cf069db9-a27d-4e68-9fc8-427e767f0d91",
   "metadata": {},
   "outputs": [],
   "source": [
    "import copy\n",
    "import pandas as pd\n",
    "import numpy as np\n",
    "from tqdm.notebook import tqdm"
   ]
  },
  {
   "cell_type": "code",
   "execution_count": 2,
   "id": "053d7f3c-b263-4418-a3c3-2f6b7df12427",
   "metadata": {},
   "outputs": [],
   "source": [
    "def alpha_dcg(J, cut=10, alpha=0.5):\n",
    "    J = np.array(J)\n",
    "    r = copy.deepcopy(J.T)\n",
    "    r2 = np.array([[]])\n",
    "    for i in range(len(r)):\n",
    "        r[i,:] = np.cumsum(r[i,:])\n",
    "    r = np.insert(r, 0, 0, axis=1)\n",
    "    r = np.insert(r, 0, 0, axis=0)\n",
    "    J = J.T\n",
    "    J = np.insert(J, 0, 0, axis=1)\n",
    "    J = np.insert(J, 0, 0, axis=0)\n",
    "    # print(J)\n",
    "    # print(r)\n",
    "    sz = len(r[0])\n",
    "    # print(f'sz = {sz}')\n",
    "    G = np.zeros(sz+1)\n",
    "    m = 6 # number of query\n",
    "    alpha = 0.5\n",
    "    for k in range(1, sz):\n",
    "        G[k] = sum(J[i][k] * ((1 - alpha) ** r[i][k-1]) for i in range(1, m+1))\n",
    "    # print(f'Gain = {G[1:cut+1]}')\n",
    "    CG = np.cumsum(G)\n",
    "    # print(f'Cumulative Gain = {CG[1:cut+1]}')\n",
    "    DCG = np.zeros(len(CG))\n",
    "    for i in range(1, len(DCG)):\n",
    "        DCG[i] = DCG[i-1] + G[i] / np.log2(1+i)\n",
    "    # print(f'alpha-DCG@{cut} = {DCG[cut]:.2f}')\n",
    "    return DCG[cut]"
   ]
  },
  {
   "cell_type": "markdown",
   "id": "63cbab06-4534-40bb-a7ad-b27be809bd78",
   "metadata": {},
   "source": [
    "### Correctness check"
   ]
  },
  {
   "cell_type": "code",
   "execution_count": 3,
   "id": "a967e38f-146c-4b99-b9ea-386532ee88c0",
   "metadata": {},
   "outputs": [
    {
     "data": {
      "text/plain": [
       "3.804473637338589"
      ]
     },
     "execution_count": 3,
     "metadata": {},
     "output_type": "execute_result"
    }
   ],
   "source": [
    "J   = [[0, 1, 0, 1, 0, 0],\n",
    "       [0, 1, 0, 0, 0, 0],\n",
    "       [0, 1, 0, 0, 0, 0],\n",
    "       [0, 0, 0, 0, 0, 0],\n",
    "       [1, 0, 0, 0, 0, 1], \n",
    "       [1, 0, 0, 0, 0, 0],\n",
    "       [0, 0, 1, 0, 0, 0],\n",
    "       [1, 0, 0, 0, 0, 0],\n",
    "       [0, 0, 0, 0, 0, 0],\n",
    "       [0, 0, 0, 0, 0, 0]]\n",
    "alpha_dcg(J)"
   ]
  },
  {
   "cell_type": "markdown",
   "id": "4e2a9525-824f-4e82-b194-2225ed355f42",
   "metadata": {},
   "source": [
    "Gain : \\[2.   0.5  0.25 0.   2.   0.5  1.   0.25 0.   0.   0.  ]  \n",
    "\n",
    "Cumulative Gain : \\[2.   2.5  2.75 2.75 4.75 5.25 6.25 6.5  6.5  6.5  6.5  ]  \n",
    "\n",
    "DCG : \\[2.         2.31546488 2.44046488 2.44046488 3.21417049 3.392274 08\n",
    " 3.72560742 3.80447364 3.80447364 3.80447364]"
   ]
  },
  {
   "cell_type": "markdown",
   "id": "aaa4c6cb-b23b-4eed-b327-054f2379dc6e",
   "metadata": {},
   "source": [
    "### Calculation\n",
    "| dataset | qrel_files     |\n",
    "| -       | -------------- |\n",
    "| dl19    | qrels/dl19_qrels.txt |\n",
    "| dl20    | qrels/dl20_qrels.txt |\n",
    "\n",
    "| method            | rankfiles  |\n",
    "| -                 | ---------- |\n",
    "| setwise.heapsort  | ../llm-rankers/run.setwise.heapsort.gpt-4o-mini.dl19.txt           |\n",
    "|                   | ../llm-rankers/run.setwise.heapsort.gpt-4o-mini.dl20.txt           |\n",
    "| pointwise         | ../llm-rankers/run.pointwise.gpt-4o-mini.dl19.txt                  |\n",
    "|                   | ../llm-rankers/run.pointwise.gpt-4o-mini.dl20.txt                  |\n",
    "| listwise          | ../RankGPT/output/dl19.txt                                         |\n",
    "|                   | ../RankGPT/output/dl20.txt                                         |"
   ]
  },
  {
   "cell_type": "code",
   "execution_count": 4,
   "id": "9731de20-a56f-4e66-986a-c5123df85494",
   "metadata": {},
   "outputs": [
    {
     "name": "stdout",
     "output_type": "stream",
     "text": [
      "[ 264014  104861  130510 1114819 1110199 1129237  573724 1121709  489204\n",
      "  131843  207786  359349  443396  146187  148538  527433 1037798  490595\n",
      "  451602  182539   87452  156493  915593   19335   47923  183378   87181\n",
      " 1133167  855410 1115776 1124210  962179  833860 1114646 1113437 1117099\n",
      " 1121402  168216 1112341 1063750  405717 1103812 1106007] length = 43\n",
      "[  19335   47923   87181   87452  104861  130510  131843  146187  148538\n",
      "  156493  168216  182539  183378  207786  264014  359349  405717  443396\n",
      "  451602  489204  490595  527433  573724  833860  855410  915593  962179\n",
      " 1037798 1063750 1103812 1106007 1110199 1112341 1113437 1114646 1114819\n",
      " 1115776 1117099 1121402 1121709 1124210 1129237 1133167] length = 43\n",
      "9139 / 9260\n"
     ]
    }
   ],
   "source": [
    "# rank_file = \"run.setwise.heapsort.gpt-4o-mini.dl20.txt\"\n",
    "rank_file =\"../RankGPT/output/dl19.txt\"\n",
    "df_rank = pd.read_csv(rank_file, sep=r'\\s+', header=None, names=['query', 'Q0', 'docid', 'rank', 'score', 'system'])\n",
    "topic = df_rank[\"query\"].unique()\n",
    "print(topic, \"length =\", len(topic))\n",
    "\n",
    "qrel_file = \"qrels/dl19_qrels.txt\"\n",
    "df_qrel = pd.read_csv(qrel_file, sep=' ', header=None, names=['query', '_', 'docid', 'rel'])\n",
    "topic_qrel = df_qrel[\"query\"].unique()\n",
    "print(topic_qrel, \"length =\", len(topic_qrel))\n",
    "\n",
    "unique_doc = df_qrel[\"docid\"].unique()\n",
    "print(f'{len(unique_doc)} / {len(df_qrel[\"docid\"])}')"
   ]
  },
  {
   "cell_type": "code",
   "execution_count": 6,
   "id": "21f664e4-62e7-475b-84eb-5d52f04b5fd5",
   "metadata": {},
   "outputs": [
    {
     "name": "stdout",
     "output_type": "stream",
     "text": [
      "# of topics : 43\n"
     ]
    },
    {
     "data": {
      "application/vnd.jupyter.widget-view+json": {
       "model_id": "96474ae8e9e04f25b1783cf966970797",
       "version_major": 2,
       "version_minor": 0
      },
      "text/plain": [
       "  0%|          | 0/43 [00:00<?, ?it/s]"
      ]
     },
     "metadata": {},
     "output_type": "display_data"
    },
    {
     "name": "stderr",
     "output_type": "stream",
     "text": [
      "C:\\Users\\stanl\\AppData\\Local\\Temp\\ipykernel_24244\\590334005.py:14: FutureWarning: Calling int on a single element Series is deprecated and will raise a TypeError in the future. Use int(ser.iloc[0]) instead\n",
      "  J[i][j] = int(tmp)\n"
     ]
    },
    {
     "name": "stdout",
     "output_type": "stream",
     "text": [
      "alpha-DCG@10 : [7.5711570428574895, 5.0, 6.029471813027503, 5.415939301283583, 2.493450309756155, 4.0, 2.2082541375001012, 1.2041199826559248, 0.5781296526357758, 0.0, 0.0, 0.0, 0.0, 0.0, 0.0, 0.0, 0.0, 0.0, 0.0, 0.0, 0.0, 0.0, 0.0, 0.0, 0.0, 0.0, 0.0, 0.0, 0.0, 0.0, 0.0, 0.0, 0.0, 0.0, 0.0, 0.0, 0.0, 0.0, 0.0, 0.0, 0.0, 0.0, 0.0]\n",
      "sum = 34.50\n"
     ]
    }
   ],
   "source": [
    "m = len(topic)\n",
    "print(f\"# of topics : {m}\")\n",
    "k = 10\n",
    "all_a_dcg = []\n",
    "for qid in tqdm(topic):\n",
    "    doc = list(df_rank[df_rank[\"query\"] == qid][:10][\"docid\"])\n",
    "    # print(doc)\n",
    "    J = np.zeros((m+1, k+1)) # 1 index\n",
    "    for i in range(1, m+1):\n",
    "        for j in range(1, k+1):\n",
    "            tmp = df_qrel[df_qrel[\"query\"] == topic[i-1]]\n",
    "            tmp = tmp[tmp[\"docid\"] == doc[j-1]][\"rel\"]\n",
    "            try : \n",
    "                J[i][j] = int(tmp)\n",
    "            except :\n",
    "                J[i][j] = 0\n",
    "    # print(J)\n",
    "    tmp = alpha_dcg(J)\n",
    "    all_a_dcg.append(tmp)\n",
    "print(f'alpha-DCG@{k} : {all_a_dcg}')\n",
    "print(f'sum = {np.sum(all_a_dcg):.2f}')"
   ]
  },
  {
   "cell_type": "code",
   "execution_count": null,
   "id": "dbb6be5a-3e4d-4ba2-96d6-eaf6a0441a63",
   "metadata": {},
   "outputs": [],
   "source": []
  }
 ],
 "metadata": {
  "kernelspec": {
   "display_name": "Python 3 (ipykernel)",
   "language": "python",
   "name": "python3"
  },
  "language_info": {
   "codemirror_mode": {
    "name": "ipython",
    "version": 3
   },
   "file_extension": ".py",
   "mimetype": "text/x-python",
   "name": "python",
   "nbconvert_exporter": "python",
   "pygments_lexer": "ipython3",
   "version": "3.11.6"
  }
 },
 "nbformat": 4,
 "nbformat_minor": 5
}
